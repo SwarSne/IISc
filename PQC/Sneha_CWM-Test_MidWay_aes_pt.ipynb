{
 "cells": [
  {
   "cell_type": "markdown",
   "metadata": {},
   "source": [
    "\n",
    "\n",
    "# Breaking Hardware CWM on CW305 FPGA"
   ]
  },
  {
   "cell_type": "markdown",
   "metadata": {},
   "source": [
    "This tutorial relies on previous knowledge from the SCA101 course notebooks (in `../courses/sca101/`); make sure you go through these first to understand how a CPA attack works.\n",
    "\n",
    "In this notebook, we'll apply knowledge from sca101 to break a hardware AES implementation on the CW305 Artix FPGA.\n",
    "\n",
    "Some out-of-date background on the target FPGA project is can be found here: [Tutorial CW305-1 Building a Project](http://wiki.newae.com/Tutorial_CW305-1_Building_a_Project) (ignore the \"capture setup\" section, which uses the obsolete ChipWhisperer GUI; this notebook shows all you need to know about capture setup on the CW305 with Jupyter)."
   ]
  },
  {
   "cell_type": "markdown",
   "metadata": {},
   "source": [
    "## Capture Setup"
   ]
  },
  {
   "cell_type": "markdown",
   "metadata": {},
   "source": [
    "Setup is somewhat similar to other targets, except that we are using an external clock (driven from the FPGA). We'll also do the rest of the setup manually:"
   ]
  },
  {
   "cell_type": "code",
   "execution_count": 1,
   "metadata": {},
   "outputs": [],
   "source": [
    "FPGA_ID='100t' # change if not using K100t CW305    "
   ]
  },
  {
   "cell_type": "code",
   "execution_count": 2,
   "metadata": {},
   "outputs": [],
   "source": [
    "import chipwhisperer as cw\n",
    "scope = cw.scope()\n",
    "scope.gain.db = 25\n",
    "scope.adc.samples = 2500\n",
    "scope.adc.offset = 0\n",
    "scope.adc.basic_mode = \"rising_edge\"\n",
    "scope.trigger.triggers = \"tio4\"\n",
    "scope.io.tio1 = \"serial_rx\"\n",
    "scope.io.tio2 = \"serial_tx\"\n",
    "scope.io.hs2 = \"disabled\"\n"
   ]
  },
  {
   "cell_type": "code",
   "execution_count": 3,
   "metadata": {},
   "outputs": [
    {
     "name": "stdout",
     "output_type": "stream",
     "text": [
      "C:\\Users\\user\\AppData\\Local\\Programs\\Python\\Python312\\Lib\\site-packages\\chipwhisperer\\__init__.py\n"
     ]
    }
   ],
   "source": [
    "import chipwhisperer as cw\n",
    "print(cw.__file__)\n"
   ]
  },
  {
   "cell_type": "code",
   "execution_count": 4,
   "metadata": {},
   "outputs": [],
   "source": [
    "#target = cw.target(scope, cw.targets.CW305, fpga_id='35t', force=False)_7LSB_C18_bias6_Star1.bit\"\n",
    "#bitpath = \"cw305_top_extended_high_signal.bit\"\n",
    "#bitpath = \"cw305_top_with_NTT.bit\"\n",
    "#bitpath = \"cw305_top_with_Keep_trigger.bit\"\n",
    "#bitpath = \"cw305_top_128_Output_with_RST.bit\"\n",
    "#bitpath = \"cw305_top_128_bits_plaintext.bit\"\n",
    "#bitpath = \"cw305_top_128bits_PT.bit\"\n",
    "#bitpath = \"cw305_top_Snowv_17thMarch.bit\" \n",
    "#bitpath = \"cw305_top_with_load.bit\"\n",
    "#bitpath = \"cw305_top_March_20_25_Tb.bit\"\n",
    "#bitpath = \"cw305_top_cwm_Apr1.bit\"\n",
    "# bitpath = \"cw305_top_Apr8_OneClk_PowerTrace.bit\"\n",
    "#bitpath = \"cw305_top_1clkCycle_i2.bit\"\n",
    "#bitpath = \"cw305_top_Apr8.bit\"\n",
    "#bitpath = \"cw305_top_i_CWM_concatenated.bit\"\n",
    "#bitpath = \"cw305_top_aes_127_0.bit\"\n",
    "\n",
    "\n",
    "#bitpath = \"cw305_top_check.bit\"\n",
    "# bitpath = \"cw305_top_128_aes_ct_full.bit\" \n",
    "#bitpath = \"cw305_top_test_32'sd0_in5th_word.bit\"\n",
    "#bitpath = \"cw305_top_after_implementation.bit\"\n",
    "#bitpath = \"cw305_top_Apr2.bit\"\n",
    "#bitpath = \"cw305_top_NTT_bgn_modified.bit\"\n",
    "# target = cw.target(scope, cw.targets.CW305, fpga_id=FPGA_ID, bsfile=bitpath,force=True)"
   ]
  },
  {
   "cell_type": "code",
   "execution_count": 5,
   "metadata": {},
   "outputs": [],
   "source": [
    "bitpath = \"cw305_top_midway_aes_pt_232.bit\"\n",
    "target = cw.target(scope, cw.targets.CW305, fpga_id=FPGA_ID, bsfile=bitpath,force=True)"
   ]
  },
  {
   "cell_type": "markdown",
   "metadata": {},
   "source": [
    "Before setting the ADC clock, we connect to the CW305 board. Here we'll need to specify our bitstream file to load as well as the usual scope and target_type arguments.\n",
    "\n",
    "Pick the correct bitfile for your CW305 board (e.g. either '35t' or '100t'). By setting `force=False`, the bitfile will only be programmed if the FPGA is uninitialized (e.g. after powering up). Change to `force=True` to always program the FPGA (e.g. if you have generated a new bitfile)."
   ]
  },
  {
   "cell_type": "markdown",
   "metadata": {},
   "source": [
    "Next we set all the PLLs. We enable CW305's PLL1; this clock will feed both the target and the CW ADC. As explained [here](http://wiki.newae.com/Tutorial_CW305-1_Building_a_Project#Capture_Setup), **make sure the DIP switches on the CW305 board are set as follows**:\n",
    "- J16 = 0\n",
    "- K16 = 1"
   ]
  },
  {
   "cell_type": "code",
   "execution_count": 6,
   "metadata": {},
   "outputs": [
    {
     "name": "stdout",
     "output_type": "stream",
     "text": [
      "/c/Users/user/ChipWhisperer5_64/cw/home/portable/chipwhisperer/jupyter\n"
     ]
    }
   ],
   "source": [
    "!pwd"
   ]
  },
  {
   "cell_type": "markdown",
   "metadata": {},
   "source": [
    "CW-Husky requires a different setup when the ADC clock is driven by the target:"
   ]
  },
  {
   "cell_type": "code",
   "execution_count": 7,
   "metadata": {},
   "outputs": [],
   "source": [
    "target.vccint_set(1.0)\n",
    "# we only need PLL1:\n",
    "target.pll.pll_enable_set(True)\n",
    "target.pll.pll_outenable_set(False, 0)\n",
    "target.pll.pll_outenable_set(True, 1)\n",
    "target.pll.pll_outenable_set(True, 2)\n",
    "\n",
    "# run at 10 MHz:\n",
    "target.pll.pll_outfreq_set(33E6, 1)\n",
    "# target.pll.pll_outfreq_set(100E6, 2) #####################Make sure to match this to the frquency used in the Verilog Constraints file for which the \n",
    "# Viavdo implemented this. \n",
    "target.pll.pll_outfreq_set(166E6, 2)\n",
    "\n",
    "# 1ms is plenty of idling time\n",
    "target.clkusbautooff = True\n",
    "target.clksleeptime = 1"
   ]
  },
  {
   "cell_type": "code",
   "execution_count": 8,
   "metadata": {},
   "outputs": [],
   "source": [
    "if scope._is_husky:\n",
    "    scope.clock.clkgen_freq = 132e6 # This is always 4 times the main frequency\n",
    "    scope.clock.clkgen_src = 'extclk'\n",
    "    scope.clock.adc_mul = 10\n",
    "    # if the target PLL frequency is changed, the above must also be changed accordingly\n",
    "else:\n",
    "    scope.clock.clkgen_freq = 132e6\n",
    "    scope.clock.clkgen_src = 'extclk'\n",
    "    # scope.clock.adc_mul = 10\n",
    "    #scope.clock.adc_src = \"extclk_x4\""
   ]
  },
  {
   "cell_type": "markdown",
   "metadata": {},
   "source": [
    "Ensure the ADC clock is locked:"
   ]
  },
  {
   "cell_type": "code",
   "execution_count": 9,
   "metadata": {},
   "outputs": [],
   "source": [
    "import time\n",
    "for i in range(5):\n",
    "    scope.clock.reset_adc()\n",
    "    time.sleep(1)\n",
    "    if scope.clock.adc_locked:\n",
    "        break \n",
    "assert (scope.clock.adc_locked), \"ADC failed to lock\""
   ]
  },
  {
   "cell_type": "markdown",
   "metadata": {},
   "source": [
    "Occasionally the ADC will fail to lock on the first try; when that happens, the above assertion will fail (and on the CW-Lite, the red LED will be on). Simply re-running the above cell again should fix things."
   ]
  },
  {
   "cell_type": "markdown",
   "metadata": {},
   "source": [
    "## Trace Capture\n",
    "Below is the capture loop. The main body of the loop loads some new plaintext, arms the scope, sends the key and plaintext, then finally records and appends our new trace to the `traces[]` list.\n",
    "\n",
    "Because we're capturing 5000 traces, this takes a bit longer than the attacks against software AES implementations.\n",
    "\n",
    "Note that the encryption result is read from the target and compared to the expected results, as a sanity check."
   ]
  },
  {
   "cell_type": "code",
   "execution_count": 10,
   "metadata": {},
   "outputs": [],
   "source": [
    "project_file = \"projects/Tutorial_HW_CWM.cwp\"\n",
    "project = cw.create_project(project_file, overwrite=True)"
   ]
  },
  {
   "cell_type": "code",
   "execution_count": null,
   "metadata": {},
   "outputs": [],
   "source": []
  },
  {
   "cell_type": "code",
   "execution_count": 13,
   "metadata": {},
   "outputs": [
    {
     "name": "stdout",
     "output_type": "stream",
     "text": [
      "Ciphertext: 002d523a000000000007496500000000\n"
     ]
    }
   ],
   "source": [
    "# Define the plaintext to match the testbench input\n",
    "text = bytearray([\n",
    "    0x00, 0x00, 0x00, 0x00,\n",
    "    0x22, 0x00, 0x00, 0x00,\n",
    "    0x00, 0x00, 0x00, 0x00,\n",
    "    0x00, 0x00, 0x00, 0x03\n",
    "])\n",
    "expected_output = 0x002d523a_00000000_00074965_00000000\n",
    "\n",
    "# Assuming 'scope' and 'target' are already set up\n",
    "# Define the key as a 32-byte array of zeros\n",
    "key = bytearray([0x00] * 32)\n",
    "\n",
    "# Send the plaintext to the FPGA\n",
    "target.simpleserial_write('p', text)\n",
    "\n",
    "# Trigger the encryption operation\n",
    "#target.simpleserial_write('g', bytearray([0x01]))\n",
    "\n",
    "# Capture the power trace\n",
    "ret = cw.capture_trace(scope, target, text, key)\n",
    "\n",
    "# Check if the capture was successful\n",
    "if ret:\n",
    "    # 'ret.wave' contains the power trace\n",
    "    # 'ret.textout' contains the ciphertext output from the FPGA\n",
    "    print(\"Ciphertext:\", ret.textout.hex())\n",
    "else:\n",
    "    print(\"Capture failed.\")\n"
   ]
  },
  {
   "cell_type": "code",
   "execution_count": 14,
   "metadata": {},
   "outputs": [
    {
     "data": {
      "text/plain": [
       "'from tqdm import tqdm\\nimport numpy as np\\nimport random\\nimport pickle\\nimport chipwhisperer as cw\\n\\nN = 1000  # Traces per byte\\nkey = bytearray([0x00] * 32)  # Confirm size matches your design\\nprint(\"🔐 Using Key:\", key.hex())\\n\\ntotal_traces = []\\ntotal_plaintexts = []\\ntotal_ciphertexts = []\\n\\nfor byte_index in range(16):\\n    print(f\"\\n[INFO] Varying byte index {byte_index}...\")\\n\\n    traces = []\\n    textin = []\\n    textout = []\\n\\n    for i in tqdm(range(N), desc=f\"Byte {byte_index}\"):\\n        text = bytearray([0x00] * 16)\\n        text[byte_index] = random.getrandbits(8)\\n\\n        target.simpleserial_write(\\'p\\', text)\\n\\n        ret = cw.capture_trace(scope, target, text, key)\\n        if not ret:\\n            print(f\"[WARN] Capture failed at trace {i}\")\\n            continue\\n\\n        # Optional debug\\n        # print(f\"[DEBUG] Trace {i} | PT: {text.hex()} → CT: {ret.textout.hex()}\")\\n\\n        traces.append(ret.wave)\\n        textin.append(text.copy())\\n        textout.append(ret.textout)\\n\\n    with open(f\"traces_byte_{byte_index}.pkl\", \"wb\") as f:\\n        pickle.dump(traces, f)\\n    with open(f\"plaintexts_byte_{byte_index}.pkl\", \"wb\") as f:\\n        pickle.dump(textin, f)\\n    with open(f\"ciphertexts_byte_{byte_index}.pkl\", \"wb\") as f:\\n        pickle.dump(textout, f)\\n\\n    total_traces.extend(traces)\\n    total_plaintexts.extend(textin)\\n    total_ciphertexts.extend(textout)'"
      ]
     },
     "execution_count": 14,
     "metadata": {},
     "output_type": "execute_result"
    }
   ],
   "source": [
    "\"\"\"from tqdm import tqdm\n",
    "import numpy as np\n",
    "import random\n",
    "import pickle\n",
    "import chipwhisperer as cw\n",
    "\n",
    "N = 1000  # Traces per byte\n",
    "key = bytearray([0x00] * 32)  # Confirm size matches your design\n",
    "print(\"🔐 Using Key:\", key.hex())\n",
    "\n",
    "total_traces = []\n",
    "total_plaintexts = []\n",
    "total_ciphertexts = []\n",
    "\n",
    "for byte_index in range(16):\n",
    "    print(f\"\\n[INFO] Varying byte index {byte_index}...\")\n",
    "\n",
    "    traces = []\n",
    "    textin = []\n",
    "    textout = []\n",
    "\n",
    "    for i in tqdm(range(N), desc=f\"Byte {byte_index}\"):\n",
    "        text = bytearray([0x00] * 16)\n",
    "        text[byte_index] = random.getrandbits(8)\n",
    "\n",
    "        target.simpleserial_write('p', text)\n",
    "\n",
    "        ret = cw.capture_trace(scope, target, text, key)\n",
    "        if not ret:\n",
    "            print(f\"[WARN] Capture failed at trace {i}\")\n",
    "            continue\n",
    "\n",
    "        # Optional debug\n",
    "        # print(f\"[DEBUG] Trace {i} | PT: {text.hex()} → CT: {ret.textout.hex()}\")\n",
    "\n",
    "        traces.append(ret.wave)\n",
    "        textin.append(text.copy())\n",
    "        textout.append(ret.textout)\n",
    "\n",
    "    with open(f\"traces_byte_{byte_index}.pkl\", \"wb\") as f:\n",
    "        pickle.dump(traces, f)\n",
    "    with open(f\"plaintexts_byte_{byte_index}.pkl\", \"wb\") as f:\n",
    "        pickle.dump(textin, f)\n",
    "    with open(f\"ciphertexts_byte_{byte_index}.pkl\", \"wb\") as f:\n",
    "        pickle.dump(textout, f)\n",
    "\n",
    "    total_traces.extend(traces)\n",
    "    total_plaintexts.extend(textin)\n",
    "    total_ciphertexts.extend(textout)\"\"\"\n"
   ]
  },
  {
   "cell_type": "code",
   "execution_count": null,
   "metadata": {},
   "outputs": [],
   "source": []
  },
  {
   "cell_type": "code",
   "execution_count": 15,
   "metadata": {},
   "outputs": [
    {
     "name": "stdout",
     "output_type": "stream",
     "text": [
      "🔐 Using Key: abcdef0112345678deadbeef87654321abcdef0112345678deadbeef87654321\n"
     ]
    },
    {
     "name": "stderr",
     "output_type": "stream",
     "text": [
      "Collecting traces: 100%|███████████████████| 7000/7000 [02:05<00:00, 55.67it/s]\n"
     ]
    },
    {
     "name": "stdout",
     "output_type": "stream",
     "text": [
      "✅ Collection complete. Data saved.\n"
     ]
    }
   ],
   "source": [
    "from tqdm import tqdm\n",
    "import numpy as np\n",
    "import random\n",
    "import pickle\n",
    "import chipwhisperer as cw  # Make sure you have your CW setup\n",
    "# import matplotlib.pyplot as plt (optional)\n",
    "\n",
    "N = 7000  # Traces per plaintext\n",
    "# key = bytearray([0x00] * 32)\n",
    "\n",
    "key = bytearray([\n",
    "    0xab, 0xcd, 0xef, 0x01, 0x12, 0x34, 0x56, 0x78,\n",
    "    0xde, 0xad, 0xbe, 0xef, 0x87, 0x65, 0x43, 0x21, \n",
    "    0xab, 0xcd, 0xef, 0x01, 0x12, 0x34, 0x56, 0x78,\n",
    "    0xde, 0xad, 0xbe, 0xef, 0x87, 0x65, 0x43, 0x21\n",
    "])\n",
    "# key2 = bytearray(b'\\x2b\\x7e\\x15\\x16\\x28\\xae\\xd2\\xa6\\xab\\xf7\\x15\\x88\\x09\\xcf\\x4f\\x3c\\x2b\\x7e\\x15\\x16\\x28\\xae\\xd2\\xa6\\xab\\xf7\\x15\\x88\\x09\\xcf\\x4f\\x3c')\n",
    "# inter SUBKEY value at 14th Round is \n",
    "\n",
    "\n",
    "print(\"🔐 Using Key:\", key.hex())\n",
    "\n",
    "total_traces = []\n",
    "total_plaintexts = []\n",
    "total_ciphertexts = []\n",
    "\n",
    "# Loop over all traces\n",
    "for i in tqdm(range(N), desc=\"Collecting traces\"):\n",
    "    # Generate a random 128-bit plaintext (16 bytes)\n",
    "    plaintext = bytearray(random.getrandbits(8) for _ in range(16))\n",
    "    \n",
    "    # Store the plaintext (input text)\n",
    "    total_plaintexts.append(plaintext.copy())\n",
    "    target.simpleserial_write('p', plaintext)\n",
    "    # Capture the corresponding trace\n",
    "    ret = cw.capture_trace(scope, target, plaintext, key)\n",
    "\n",
    "    if not ret:\n",
    "        print(f\"[WARN] Capture failed at trace {i}\")\n",
    "        continue\n",
    "\n",
    "    # Store the captured trace and ciphertext (output text)\n",
    "    total_traces.append(ret.wave)\n",
    "    total_ciphertexts.append(ret.textout)\n",
    "\n",
    "# Save the collected results\n",
    "with open(f\"traces_CWM.pkl\", \"wb\") as f:\n",
    "    pickle.dump(total_traces, f)\n",
    "with open(f\"plaintexts_CWM.pkl\", \"wb\") as f:\n",
    "    pickle.dump(total_plaintexts, f)\n",
    "with open(f\"ciphertexts_CWM.pkl\", \"wb\") as f:\n",
    "    pickle.dump(total_ciphertexts, f)\n",
    "\n",
    "print(\"✅ Collection complete. Data saved.\")\n"
   ]
  },
  {
   "cell_type": "code",
   "execution_count": null,
   "metadata": {},
   "outputs": [],
   "source": []
  },
  {
   "cell_type": "code",
   "execution_count": null,
   "metadata": {},
   "outputs": [],
   "source": []
  },
  {
   "cell_type": "markdown",
   "metadata": {},
   "source": [
    "## Ananlysis of TRACES received "
   ]
  },
  {
   "cell_type": "code",
   "execution_count": 18,
   "metadata": {},
   "outputs": [],
   "source": [
    "import pickle\n",
    "\n",
    "# Load the saved traces, plaintexts, and ciphertexts\n",
    "with open(\"traces_CWM.pkl\", \"rb\") as f:\n",
    "    traces_cwm = pickle.load(f)\n",
    "\n",
    "with open(\"plaintexts_CWM.pkl\", \"rb\") as f:\n",
    "    plaintexts_cwm = pickle.load(f)\n",
    "\n",
    "with open(\"ciphertexts_CWM.pkl\", \"rb\") as f:\n",
    "    ciphertexts_cwm = pickle.load(f)\n"
   ]
  },
  {
   "cell_type": "code",
   "execution_count": 20,
   "metadata": {},
   "outputs": [
    {
     "name": "stdout",
     "output_type": "stream",
     "text": [
      "Sample Trace (first 5):\n",
      "\n",
      "[array([-0.00976562, -0.01269531, -0.00097656, ..., -0.02441406,\n",
      "       -0.03417969, -0.015625  ]), array([-0.00292969, -0.01269531, -0.03515625, ..., -0.01953125,\n",
      "       -0.02636719, -0.0234375 ]), array([-0.01269531, -0.00390625, -0.02734375, ..., -0.02832031,\n",
      "       -0.01953125, -0.03222656]), array([-0.00390625, -0.00976562, -0.04101562, ..., -0.0234375 ,\n",
      "       -0.02441406, -0.02929688]), array([-0.00585938,  0.00097656, -0.0078125 , ..., -0.02832031,\n",
      "       -0.01953125, -0.02441406])]\n",
      "\n",
      "Corresponding Plaintexts:\n",
      "\n",
      "[bytearray(b'\\x98OC(\\xdf\\xc1BW!\\xf7a\\xce\\xfc\\x1a\\x01\\xe6'), bytearray(b'D\\x08\\xad\\x95\\xee9\\xd2\\x10\\xb3\\xf1wEJ\\x8c\\x8e\\xa6'), bytearray(b'\\xef\\xe7\\xec^\\x06\\xed58\\xba(7\\xe8\\xe3\\xebQ\\x8c'), bytearray(b'\\x90\\xce[RA\\xd2\\x9b\\x0e\\xbdj\\x81\\xea\\x02\\x8e!E'), bytearray(b'o[\\xd4F\\x18\\xff$\\xf7T\\xccm\\x04o\\xf1\\x96\\x87')]\n",
      "\n",
      "Corresponding Ciphertexts:\n",
      "\n",
      "[bytearray(b'\\xff\\xe6\\xdaR\\xff\\xff\\xab\\x95\\xff\\xec\\x15\\t\\x00,\\x89\\x81'), bytearray(b'\\x00!\\x1cJ\\x00*W\\xa4\\xff\\xd5\\xdej\\xff\\xd8c\\x1c'), bytearray(b'\\x00(t\\xa2\\xff\\xe5\\xa9!\\xff\\xfd\\x0cS\\xff\\xfd\\x07\\xf9'), bytearray(b'\\x00\\x1a\\xb9\\xed\\x00%q\\xe7\\x00;9\\xc5\\x00\\x0bo\\x86'), bytearray(b'\\x00N<o\\x007\\xab)\\x00\\x1b\\xdf\\x9d\\xff\\xe6v\\xa7')]\n"
     ]
    }
   ],
   "source": [
    "print(\"Sample Trace (first 5):\\n\")\n",
    "print(traces_cwm[:5])\n",
    "\n",
    "print(\"\\nCorresponding Plaintexts:\\n\")\n",
    "print(plaintexts_cwm[:5])\n",
    "\n",
    "print(\"\\nCorresponding Ciphertexts:\\n\")\n",
    "print(ciphertexts_cwm[:5])\n"
   ]
  },
  {
   "cell_type": "code",
   "execution_count": 21,
   "metadata": {},
   "outputs": [
    {
     "name": "stdout",
     "output_type": "stream",
     "text": [
      "Index | Plaintext (hex)                          | Ciphertext (hex)\n",
      "------------------------------------------------------------------------------------------\n",
      "0     | 984f4328dfc1425721f761cefc1a01e6         | ffe6da52ffffab95ffec1509002c8981\n",
      "1     | 4408ad95ee39d210b3f177454a8c8ea6         | 00211c4a002a57a4ffd5de6affd8631c\n",
      "2     | efe7ec5e06ed3538ba2837e8e3eb518c         | 002874a2ffe5a921fffd0c53fffd07f9\n",
      "3     | 90ce5b5241d29b0ebd6a81ea028e2145         | 001ab9ed002571e7003b39c5000b6f86\n",
      "4     | 6f5bd44618ff24f754cc6d046ff19687         | 004e3c6f0037ab29001bdf9dffe676a7\n"
     ]
    }
   ],
   "source": [
    "# Print header\n",
    "print(f\"{'Index':<5} | {'Plaintext (hex)':<40} | {'Ciphertext (hex)'}\")\n",
    "print(\"-\" * 90)\n",
    "\n",
    "# Loop through a few samples (first 5)\n",
    "for i in range(5):\n",
    "    pt_hex = plaintexts_cwm[i].hex()\n",
    "    ct_hex = ciphertexts_cwm[i].hex()\n",
    "    print(f\"{i:<5} | {pt_hex:<40} | {ct_hex}\")\n"
   ]
  },
  {
   "cell_type": "markdown",
   "metadata": {},
   "source": [
    "In the VIVADO testbench for CW305; we do this:\n",
    "      write_bytes(0, 16, `REG_CRYPT_TEXTIN, {32'h00000000, 32'h008e0000, 32'h00b20000, 32'h00000000}); (This serves as our PT; one of the multiplier)\n",
    "      write_bytes(0, 16, `REG_CRYPT_KEY, {32'habcdef01, 32'h12345678, 32'hdeadbeef, 32'h87654321});(This serves as our Key)\n",
    "\n",
    "      So, in1 = {32'h00000000, 32'h00b20000, 32'h008e0000, 32'h00000000} (Note: we send A, B, C, D which gets turned to D, C, B, A)as one of the multiplier.\n",
    "      So in the Behavioral Waveform see that b ={ } and a = { }. Elaborated in the picture next.\n",
    "********************************************************************************************************************************************************\n",
    "\n",
    "    For that: Select the Cell and change it into Markdown Cell. Enter this text with the jpg file path and its description. For that we need to Press ESC and then Outer border will get broadened.  Then press \"M\". \n",
    "     Next, press enter. \n",
    "    ![Description of Image](CWM_TB_WaveForm.jpg)"
   ]
  },
  {
   "cell_type": "markdown",
   "metadata": {},
   "source": [
    "<figure>\n",
    "  <img src=\"CWM_TB_WaveForm.jpg\" alt=\"Description of Image\" width=\"700\" height=\"900\">\n",
    "  <figcaption>This is the way multiplication and montegomery reduction is happening. See Vivado project March_20_25_NTT_Attack to understand the signals.</figcaption>\n",
    "</figure>\n"
   ]
  },
  {
   "cell_type": "code",
   "execution_count": 106,
   "metadata": {},
   "outputs": [
    {
     "name": "stdout",
     "output_type": "stream",
     "text": [
      "[INFO] Loaded 7000 traces.\n"
     ]
    },
    {
     "data": {
      "image/png": "[encoded data removed]",
      "text/plain": [
       "<Figure size 1200x400 with 1 Axes>"
      ]
     },
     "metadata": {},
     "output_type": "display_data"
    }
   ],
   "source": [
    "import pickle\n",
    "import os\n",
    "import matplotlib.pyplot as plt\n",
    "\n",
    "# === Load and Plot ===\n",
    "with open(\"traces_CWM.pkl\", \"rb\") as f:\n",
    "    traces = pickle.load(f)\n",
    "\n",
    "print(f\"[INFO] Loaded {len(traces)} traces.\")\n",
    "\n",
    "if len(traces) > 0:\n",
    "    plt.figure(figsize=(12, 4))\n",
    "    plt.plot(traces[19])  # zoom in on area of interest\n",
    "    plt.title(\"Power Trace - Sample 7\")\n",
    "    plt.xlabel(\"Sample Number\")\n",
    "    plt.ylabel(\"Amplitude (relative)\")\n",
    "    plt.grid(True)\n",
    "    plt.show()\n",
    "else:\n",
    "    print(\"[ERROR] No valid traces in file.\")"
   ]
  },
  {
   "cell_type": "code",
   "execution_count": 107,
   "metadata": {},
   "outputs": [],
   "source": [
    "import pickle\n",
    "\n",
    "# Load the full traces\n",
    "with open(\"traces_CWM.pkl\", \"rb\") as f:\n",
    "    full_traces = pickle.load(f)\n",
    "\n",
    "# Truncate each trace to the first 770 sample points\n",
    "trimmed_traces = [trace[:770] for trace in full_traces]\n",
    "\n",
    "# Save the trimmed traces back into a new pickle file (or overwrite, if you want)\n",
    "with open(\"traces_CWM_trimmed.pkl\", \"wb\") as f:\n",
    "    pickle.dump(trimmed_traces, f)\n"
   ]
  },
  {
   "cell_type": "code",
   "execution_count": 108,
   "metadata": {},
   "outputs": [],
   "source": [
    "import pickle\n",
    "\n",
    "# Load the saved traces, plaintexts, and ciphertexts\n",
    "with open(\"traces_CWM_trimmed.pkl\", \"rb\") as f:\n",
    "    traces_cwm = pickle.load(f)\n",
    "\n",
    "with open(\"plaintexts_CWM.pkl\", \"rb\") as f:\n",
    "    plaintexts_cwm = pickle.load(f)\n",
    "\n",
    "with open(\"ciphertexts_CWM.pkl\", \"rb\") as f:\n",
    "    ciphertexts_cwm = pickle.load(f)"
   ]
  },
  {
   "cell_type": "code",
   "execution_count": 109,
   "metadata": {},
   "outputs": [
    {
     "name": "stdout",
     "output_type": "stream",
     "text": [
      "[INFO] Loaded 7000 traces.\n"
     ]
    },
    {
     "data": {
      "image/png": "[encoded data removed]",
      "text/plain": [
       "<Figure size 1200x400 with 1 Axes>"
      ]
     },
     "metadata": {},
     "output_type": "display_data"
    }
   ],
   "source": [
    "import pickle\n",
    "import os\n",
    "import matplotlib.pyplot as plt\n",
    "\n",
    "\n",
    "print(f\"[INFO] Loaded {len(traces)} traces.\")\n",
    "\n",
    "if len(traces_cwm) > 0:\n",
    "    plt.figure(figsize=(12, 4))\n",
    "    plt.plot(traces_cwm[19])  # zoom in on area of interest\n",
    "    plt.title(\"Power Trace - Sample 7\")\n",
    "    plt.xlabel(\"Sample Number\")\n",
    "    plt.ylabel(\"Amplitude (relative)\")\n",
    "    plt.grid(True)\n",
    "    plt.show()\n",
    "else:\n",
    "    print(\"[ERROR] No valid traces in file.\")"
   ]
  },
  {
   "cell_type": "markdown",
   "metadata": {},
   "source": [
    "## Reverse the words in the Plaintexts send; from A B C D to D A B C where each letter is a signed word of 32 bits "
   ]
  },
  {
   "cell_type": "code",
   "execution_count": 112,
   "metadata": {},
   "outputs": [],
   "source": [
    "################################################################ REVERSE PLAINTEXTS ####################################################################"
   ]
  },
  {
   "cell_type": "code",
   "execution_count": 113,
   "metadata": {},
   "outputs": [
    {
     "name": "stdout",
     "output_type": "stream",
     "text": [
      "Reversed Plaintext 1: fc1a01e621f761cedfc14257984f4328\n",
      "Plaintext 1       : 984f4328dfc1425721f761cefc1a01e6\n",
      "Reversed Plaintext 2: 4a8c8ea6b3f17745ee39d2104408ad95\n",
      "Plaintext 2       : 4408ad95ee39d210b3f177454a8c8ea6\n",
      "Reversed Plaintext 3: e3eb518cba2837e806ed3538efe7ec5e\n",
      "Plaintext 3       : efe7ec5e06ed3538ba2837e8e3eb518c\n",
      "Reversed Plaintext 4: 028e2145bd6a81ea41d29b0e90ce5b52\n",
      "Plaintext 4       : 90ce5b5241d29b0ebd6a81ea028e2145\n",
      "Reversed Plaintext 5: 6ff1968754cc6d0418ff24f76f5bd446\n",
      "Plaintext 5       : 6f5bd44618ff24f754cc6d046ff19687\n",
      "Type: <class 'list'>\n",
      "Number of plaintexts: 7000\n",
      "First plaintext length: 16\n"
     ]
    }
   ],
   "source": [
    "import pickle\n",
    "\n",
    "# Load the plaintexts\n",
    "with open(\"plaintexts_CWM.pkl\", \"rb\") as f:\n",
    "    textin = pickle.load(f)\n",
    "\n",
    "# Function to reverse 32-bit chunks\n",
    "def reverse_plaintext(pt):\n",
    "    chunks = [pt[i:i+4] for i in range(0, 16, 4)]  # Split into 4 chunks (each 32 bits)\n",
    "    reversed_pt = chunks[::-1]  # Reverse the order of chunks\n",
    "    return b\"\".join(reversed_pt).hex()  # Convert to hex after reversing\n",
    "\n",
    "# Transform all plaintexts\n",
    "reversed_plaintexts = [reverse_plaintext(pt) for pt in textin]\n",
    "\n",
    "# Save transformed plaintexts\n",
    "with open(\"reversed_plaintexts_cwm.pkl\", \"wb\") as f:\n",
    "    pickle.dump(reversed_plaintexts, f)\n",
    "\n",
    "# Print first 5 transformed plaintexts\n",
    "for i in range(5):\n",
    "    print(f\"Reversed Plaintext {i+1}: {reversed_plaintexts[i]}\")\n",
    "    print(f\"Plaintext {i+1}       : {textin[i].hex()}\")\n",
    "\n",
    "\n",
    "with open(\"plaintexts_CWM.pkl\", \"rb\") as f:\n",
    "    plaintexts = pickle.load(f)\n",
    "print(f\"Type: {type(plaintexts)}\")\n",
    "\n",
    "# If it's a NumPy array or list, print the shape or length\n",
    "if isinstance(plaintexts, list):\n",
    "    print(f\"Number of plaintexts: {len(plaintexts)}\")\n",
    "    print(f\"First plaintext length: {len(plaintexts[0]) if plaintexts else 'Empty'}\")\n",
    "elif isinstance(plaintexts, dict):\n",
    "    print(f\"Keys: {plaintexts.keys()}\")\n",
    "elif isinstance(plaintexts, np.ndarray):\n",
    "    print(f\"Shape: {plaintexts.shape}\")\n",
    "else:\n",
    "    print(f\"Unknown structure: {plaintexts}\")"
   ]
  },
  {
   "cell_type": "code",
   "execution_count": null,
   "metadata": {},
   "outputs": [],
   "source": []
  },
  {
   "cell_type": "code",
   "execution_count": null,
   "metadata": {},
   "outputs": [],
   "source": []
  },
  {
   "cell_type": "code",
   "execution_count": null,
   "metadata": {},
   "outputs": [],
   "source": []
  },
  {
   "cell_type": "code",
   "execution_count": 114,
   "metadata": {},
   "outputs": [],
   "source": [
    "###############################################      KNOWN VALUE CORRELATION      ############################################################"
   ]
  },
  {
   "cell_type": "code",
   "execution_count": 116,
   "metadata": {},
   "outputs": [
    {
     "name": "stdout",
     "output_type": "stream",
     "text": [
      "[INFO] Extracted 256 values.\n",
      "[2951674 3697723 1623740 1254113]\n",
      "[INFO] Saved reversed secret values to 'secret_values_reversed.pkl'\n"
     ]
    }
   ],
   "source": [
    "verilog_output = \"\"\"\n",
    "b = {\n",
    "    32'sd116795, 32'sd6525254, 32'sd6726660, 32'sd446995,\n",
    "     32'sd4543412, 32'sd953375, 32'sd3015564, 32'sd963977,\n",
    "\t32'sd1633725, 32'sd1776882, 32'sd8287968, 32'sd7736493, 32'sd935442, 32'sd1507897, 32'sd83392, 32'sd4494294, \n",
    "\t32'sd2688649, 32'sd6545940, 32'sd8333443, 32'sd5813536, 32'sd1254113, 32'sd1623740, 32'sd3697723, 32'sd2951674, \n",
    "\t32'sd772666, 32'sd2456439, 32'sd5021077, 32'sd1959735, 32'sd7705741, 32'sd252617, 32'sd2681594, 32'sd6869272, \n",
    "\t32'sd7085522, 32'sd126526, 32'sd6181484, 32'sd5887408, 32'sd2600944, 32'sd3209806, 32'sd5597025, 32'sd3523579, \n",
    "\t32'sd789718, 32'sd1387386, 32'sd1791399, 32'sd1097964, 32'sd3957939, 32'sd3284197, 32'sd2018637, 32'sd3264935, \n",
    "\t32'sd2033505, 32'sd3857922, 32'sd917617, 32'sd6546469, 32'sd2052715, 32'sd411057, 32'sd6031123, 32'sd7534752, \n",
    "\t32'sd1183750, 32'sd5762352, 32'sd3148795, 32'sd4327358, 32'sd1962464, 32'sd2465134, 32'sd1772153, 32'sd4409467, \n",
    "\t32'sd2195522, 32'sd864803, 32'sd1471291, 32'sd1175338, 32'sd4650522, 32'sd2307317, 32'sd3399851, 32'sd4325648, \n",
    "\t32'sd4587554, 32'sd3415574, 32'sd5730976, 32'sd7836392, 32'sd6752385, 32'sd4890178, 32'sd5315847, 32'sd5587568, \n",
    "\t32'sd7132781, 32'sd4122406, 32'sd8035472, 32'sd4826260, 32'sd7351960, 32'sd4592052, 32'sd352915, 32'sd7720245, \n",
    "\t32'sd2585443, 32'sd3832626, 32'sd2210785, 32'sd4766039, 32'sd1431391, 32'sd6257968, 32'sd821947, 32'sd6611683, \n",
    "\t32'sd1007782, 32'sd7567991, 32'sd8018581, 32'sd2489036, 32'sd5627456, 32'sd7883770, 32'sd5004327, 32'sd7914399, \n",
    "\t32'sd992019, 32'sd120479, 32'sd6690327, 32'sd5741042, 32'sd859484, 32'sd3152543, 32'sd5512164, 32'sd3972057, \n",
    "\t32'sd2860188, 32'sd4631582, 32'sd6004745, 32'sd4218527, 32'sd3701228, 32'sd7688217, 32'sd3351252, 32'sd6857430, \n",
    "\t32'sd977468, 32'sd7207466, 32'sd7775199, 32'sd5397180, 32'sd2778829, 32'sd4716522, 32'sd6911949, 32'sd2734327, \n",
    "\t32'sd4756593, 32'sd6667833, 32'sd4596392, 32'sd425441, 32'sd417286, 32'sd2873011, 32'sd8349264, 32'sd1354426, \n",
    "\t32'sd113287, 32'sd8330186, 32'sd3116365, 32'sd351297, 32'sd4201071, 32'sd559591, 32'sd7349482, 32'sd3811065, \n",
    "\t32'sd4796131, 32'sd4346021, 32'sd3155853, 32'sd4379025, 32'sd7771283, 32'sd7277587, 32'sd5417675, 32'sd2080553, \n",
    "\t32'sd3503080, 32'sd1920973, 32'sd5234342, 32'sd6039206, 32'sd2254039, 32'sd940735, 32'sd5661268, 32'sd5686240, \n",
    "\t32'sd8002238, 32'sd7040, 32'sd3683978, 32'sd6760295, 32'sd3895078, 32'sd913353, 32'sd2716583, 32'sd479539, \n",
    "\t32'sd6738948, 32'sd419830, 32'sd6209743, 32'sd2398072, 32'sd7739581, 32'sd2059988, 32'sd6370233, 32'sd4804907, \n",
    "\t32'sd4160520, 32'sd5803591, 32'sd1564135, 32'sd2224759, 32'sd951526, 32'sd6876230, 32'sd4243517, 32'sd2797906, \n",
    "\t32'sd1023539, 32'sd2900578, 32'sd1776542, 32'sd2273673, 32'sd7793732, 32'sd7030714, 32'sd2561307, 32'sd941921, \n",
    "\t32'sd77509, 32'sd4122672, 32'sd7838512, 32'sd2831959, 32'sd3470452, 32'sd7189892, 32'sd3803860, 32'sd5555626, \n",
    "\t32'sd116862, 32'sd2687373, 32'sd2632277, 32'sd7322326, 32'sd3908740, 32'sd1217854, 32'sd5345369, 32'sd127298, \n",
    "\t32'sd3483520, 32'sd4266363, 32'sd6219461, 32'sd533930, 32'sd7090561, 32'sd3300273, 32'sd2347092, 32'sd5399852, \n",
    "\t32'sd285629, 32'sd8363485, 32'sd186275, 32'sd2346957, 32'sd776313, 32'sd5090207, 32'sd606310, 32'sd5649690, \n",
    "\t32'sd1375062, 32'sd239127, 32'sd7778124, 32'sd9122, 32'sd8030882, 32'sd688139, 32'sd2570149, 32'sd4589347, \n",
    "\t32'sd4936222, 32'sd5837227, 32'sd1467165, 32'sd283970, 32'sd5726846, 32'sd2875416, 32'sd6038837, 32'sd2164481, \n",
    "\t32'sd374510, 32'sd4692417, 32'sd2357623, 32'sd7133341, 32'sd7380798, 32'sd1831225, 32'sd5660971, 32'sd3161637, \n",
    "\t32'sd3600228, 32'sd3779401, 32'sd8338416,32'sd3071937, 32'sd4954024, 32'sd1370059, 32'sd3358563, 32'sd4026753\n",
    "    };\n",
    "\"\"\"\n",
    "\n",
    "import re\n",
    "import numpy as np\n",
    "\n",
    "# Extract all 32-bit signed decimal numbers\n",
    "matches = re.findall(r\"32'sd(-?\\d+)\", verilog_output)\n",
    "\n",
    "# Convert and reverse to LSB-first order\n",
    "secret_values = np.array([np.int32(int(m)) for m in matches][::-1], dtype=np.int32)\n",
    "\n",
    "print(f\"[INFO] Extracted {len(secret_values)} values.\")\n",
    "print(secret_values[232:236])  # print first 10 for sanity check\n",
    "\n",
    "# Save reversed secret values\n",
    "with open(\"secret_values_reversed.pkl\", \"wb\") as f:\n",
    "    pickle.dump(secret_values, f)\n",
    "\n",
    "print(\"[INFO] Saved reversed secret values to 'secret_values_reversed.pkl'\")\n",
    "\n"
   ]
  },
  {
   "cell_type": "code",
   "execution_count": 117,
   "metadata": {},
   "outputs": [
    {
     "name": "stdout",
     "output_type": "stream",
     "text": [
      "<class 'bytearray'>\n",
      "bytearray(b'\\x98OC(\\xdf\\xc1BW!\\xf7a\\xce\\xfc\\x1a\\x01\\xe6')\n"
     ]
    }
   ],
   "source": [
    "print(type(plaintexts[0]))\n",
    "print(plaintexts[0])"
   ]
  },
  {
   "cell_type": "code",
   "execution_count": 123,
   "metadata": {},
   "outputs": [
    {
     "name": "stdout",
     "output_type": "stream",
     "text": [
      "Idx | Original PT                              | Reversed PT                              | CT Words (signed)                                            | CT Words (hex)                                              \n",
      "------------------------------------------------------------------------------------------------------------------------------------------------------------------------------------\n",
      "0   | 984f4328dfc1425721f761cefc1a01e6         | fc1a01e621f761cedfc14257984f4328         |  1390077695 | -1783889921 |   152431871 | -2121716736        | 52dae6ff | 95abffff | 0915ecff | 81892c00\n",
      "1   | 4408ad95ee39d210b3f177454a8c8ea6         | 4a8c8ea6b3f17745ee39d2104408ad95         |  1243357440 | -1537791488 |  1792988671 |   476305663        | 4a1c2100 | a4572a00 | 6aded5ff | 1c63d8ff\n",
      "2   | efe7ec5e06ed3538ba2837e8e3eb518c         | e3eb518cba2837e806ed3538efe7ec5e         | -1569445888 |   564782591 |  1393360383 |  -116916737        | a2742800 | 21a9e5ff | 530cfdff | f907fdff\n",
      "3   | 90ce5b5241d29b0ebd6a81ea028e2145         | 028e2145bd6a81ea41d29b0e90ce5b52         |  -306636288 |  -412015360 |  -986105088 | -2039543040        | edb91a00 | e7712500 | c5393b00 | 866f0b00\n",
      "4   | 6f5bd44618ff24f754cc6d046ff19687         | 6ff1968754cc6d0418ff24f76f5bd446         |  1866223104 |   699086592 | -1646322944 | -1485379841        | 6f3c4e00 | 29ab3700 | 9ddf1b00 | a776e6ff\n",
      "5   | 4086b694c4261eaacd4c83e332b9477f         | 32b9477fcd4c83e3c4261eaa4086b694         | -2064119296 |  2088831744 |   341372159 | -1342821632        | 84f80a00 | 7c810b00 | 1458ecff | aff62b00\n",
      "6   | 304ab41ee934fe00a1c669035d6d415d         | 5d6d415da1c66903e934fe00304ab41e         | -1633606144 |  -903740672 |   244845824 |  -561505280        | 9ea12600 | ca220300 | 0e980d00 | de881c00\n",
      "7   | 0753fbea90f8ce1209c6b54c5bf6159e         | 5bf6159e09c6b54c90f8ce120753fbea         |  1737248512 |  1302085120 | -2143476992 | -2064516609        | 678c4f00 | 4d9c3e00 | 803d2300 | 84f1f9ff\n",
      "8   | 6abea587930f9490386daeda3208ca2b         | 3208ca2b386daeda930f94906abea587         |   849605375 |  1615276032 |  -906895105 |  1440802559        | 32a3f2ff | 60472800 | c9f1e0ff | 55e0e6ff\n",
      "9   | cc54278b3f03238e866363fe6ecc019b         | 6ecc019b866363fe3f03238ecc54278b         |  -286381568 |   489217535 |   595469312 |  1730548736        | eeee2a00 | 1d28ddff | 237e2400 | 67261400\n"
     ]
    }
   ],
   "source": [
    "import pickle\n",
    "\n",
    "# Load plaintexts and ciphertexts\n",
    "with open(\"plaintexts_CWM.pkl\", \"rb\") as f:\n",
    "    plaintexts = pickle.load(f)\n",
    "\n",
    "with open(\"reversed_plaintexts_cwm.pkl\", \"rb\") as f:\n",
    "    reversed_plaintexts = pickle.load(f)\n",
    "\n",
    "with open(\"ciphertexts_CWM.pkl\", \"rb\") as f:\n",
    "    ciphertexts_cwm = pickle.load(f)\n",
    "\n",
    "# Sanity check\n",
    "assert len(plaintexts) == len(reversed_plaintexts) == len(ciphertexts_cwm), \"Mismatched lengths!\"\n",
    "\n",
    "print(f\"{'Idx':<3} | {'Original PT':<40} | {'Reversed PT':<40} | {'CT Words (signed)':<60} | {'CT Words (hex)':<60}\")\n",
    "print(\"-\" * 180)\n",
    "\n",
    "for i in range(len(plaintexts)):\n",
    "    pt_entry = plaintexts[i]\n",
    "    pt_hex = pt_entry.hex() if isinstance(pt_entry, (bytes, bytearray)) else str(pt_entry)\n",
    "\n",
    "    rev_pt = reversed_plaintexts[i]\n",
    "    rev_pt_hex = rev_pt.hex() if isinstance(rev_pt, (bytes, bytearray)) else str(rev_pt)\n",
    "\n",
    "    ct_bytes = ciphertexts_cwm[i]\n",
    "    \n",
    "    # Signed 32-bit integers\n",
    "    ct_words_signed = [int.from_bytes(ct_bytes[j:j+4], byteorder='little', signed=True) for j in range(0, 16, 4)]\n",
    "    ct_signed_str = \" | \".join(f\"{w:11d}\" for w in ct_words_signed)\n",
    "\n",
    "    # Corresponding hex (little endian)\n",
    "    ct_words_hex = [f\"{int.from_bytes(ct_bytes[j:j+4], byteorder='little', signed=False):08x}\" for j in range(0, 16, 4)]\n",
    "    ct_hex_str = \" | \".join(ct_words_hex)\n",
    "\n",
    "    print(f\"{i:<3} | {pt_hex:<40} | {rev_pt_hex:<40} | {ct_signed_str:<60} | {ct_hex_str}\")\n",
    "\n",
    "    if i >= 9:  # First 10 entries only\n",
    "        break\n"
   ]
  },
  {
   "cell_type": "code",
   "execution_count": 124,
   "metadata": {},
   "outputs": [
    {
     "name": "stdout",
     "output_type": "stream",
     "text": [
      "Idx | Ciphertext (Hex)\n",
      "--------------------------------------------------\n",
      "0   | ffe6da52 | ffffab95 | ffec1509 | 002c8981\n",
      "1   | 00211c4a | 002a57a4 | ffd5de6a | ffd8631c\n",
      "2   | 002874a2 | ffe5a921 | fffd0c53 | fffd07f9\n",
      "3   | 001ab9ed | 002571e7 | 003b39c5 | 000b6f86\n",
      "4   | 004e3c6f | 0037ab29 | 001bdf9d | ffe676a7\n",
      "5   | 000af884 | 000b817c | ffec5814 | 002bf6af\n",
      "6   | 0026a19e | 000322ca | 000d980e | 001c88de\n",
      "7   | 004f8c67 | 003e9c4d | 00233d80 | fff9f184\n",
      "8   | fff2a332 | 00284760 | ffe0f1c9 | ffe6e055\n",
      "9   | 002aeeee | ffdd281d | 00247e23 | 00142667\n"
     ]
    }
   ],
   "source": [
    "import pickle\n",
    "\n",
    "# Load plaintexts and ciphertexts\n",
    "with open(\"plaintexts_CWM.pkl\", \"rb\") as f:\n",
    "    plaintexts = pickle.load(f)\n",
    "\n",
    "with open(\"reversed_plaintexts_cwm.pkl\", \"rb\") as f:\n",
    "    reversed_plaintexts = pickle.load(f)\n",
    "\n",
    "with open(\"ciphertexts_CWM.pkl\", \"rb\") as f:\n",
    "    ciphertexts_cwm = pickle.load(f)\n",
    "\n",
    "# Sanity check\n",
    "assert len(plaintexts) == len(reversed_plaintexts) == len(ciphertexts_cwm), \"Mismatched lengths!\"\n",
    "\n",
    "print(f\"{'Idx':<3} | {'Ciphertext (Hex)'}\")\n",
    "print(\"-\" * 50)\n",
    "\n",
    "for i in range(len(ciphertexts_cwm)):\n",
    "    ct_bytes = ciphertexts_cwm[i]\n",
    "    \n",
    "    # Split into 4 words of 4 bytes and print each as 8-digit hex (big endian or little based on your target)\n",
    "    ct_words_hex = [f\"{int.from_bytes(ct_bytes[j:j+4], byteorder='big', signed=False):08x}\" for j in range(0, 16, 4)]\n",
    "    \n",
    "    ct_str = \" | \".join(ct_words_hex)\n",
    "    print(f\"{i:<3} | {ct_str}\")\n",
    "\n",
    "    if i >= 9:  # First 10 entries only\n",
    "        break\n"
   ]
  },
  {
   "cell_type": "code",
   "execution_count": 125,
   "metadata": {},
   "outputs": [
    {
     "name": "stdout",
     "output_type": "stream",
     "text": [
      "[INFO] CWM with Montgomery reduction and hex output complete and saved.\n"
     ]
    }
   ],
   "source": [
    "import pickle\n",
    "\n",
    "# ---- Load plaintexts ----\n",
    "with open(\"reversed_plaintexts_cwm.pkl\", \"rb\") as f:\n",
    "    plaintexts = pickle.load(f)\n",
    "\n",
    "# ---- Load secret values ----\n",
    "with open(\"secret_values_reversed.pkl\", \"rb\") as f:\n",
    "    secret_values = pickle.load(f)\n",
    "\n",
    "# ---- Utility functions ----\n",
    "def to_signed_32(n):\n",
    "    return n if n < (1 << 31) else n - (1 << 32)\n",
    "\n",
    "def to_signed_16(n):\n",
    "    return n if n < (1 << 15) else n - (1 << 16)\n",
    "\n",
    "def montgomery_reduction_2(temp, mode=1):\n",
    "    Q_k = 3329\n",
    "    QINV_k = -3327\n",
    "    Q_d = 8380417\n",
    "    QINV_d = 58728449\n",
    "\n",
    "    if mode == 1:\n",
    "        temp1 = (temp * QINV_d) & 0xFFFFFFFF\n",
    "        temp1 = to_signed_32(temp1)\n",
    "\n",
    "        temp2 = (temp1 * Q_d) & 0xFFFFFFFFFFFFFFFF\n",
    "        temp3 = (temp - temp2) & 0xFFFFFFFFFFFFFFFF\n",
    "\n",
    "        t = (temp3 >> 32) & 0xFFFFFFFF\n",
    "        return to_signed_32(t)\n",
    "    else:\n",
    "        temp1 = ((temp & 0xFFFF) * (QINV_k & 0xFFFF)) & 0xFFFFFFFF\n",
    "        temp1 = to_signed_32(temp1)\n",
    "\n",
    "        temp2 = ((temp1 & 0xFFFF) * (Q_k & 0xFFFF)) & 0xFFFFFFFF\n",
    "        temp3 = ((temp & 0xFFFFFFFF) - (temp2 & 0xFFFFFFFF)) & 0xFFFFFFFF\n",
    "\n",
    "        t = (temp3 >> 16) & 0xFFFF\n",
    "        return to_signed_16(t)\n",
    "\n",
    "# ---- Extract secret 32-bit signed words ----\n",
    "secret_words_unsigned = secret_values[232:236]\n",
    "secret_words_signed = [to_signed_32(w) for w in secret_words_unsigned]\n",
    "\n",
    "# ---- Coefficient-wise multiplication with reduction and hex output ----\n",
    "cwm_outputs_hex = []\n",
    "\n",
    "for pt in plaintexts:\n",
    "    if isinstance(pt, str):\n",
    "        pt = bytes.fromhex(pt)\n",
    "\n",
    "    # Extract 4 signed 32-bit words from little-endian byte chunks\n",
    "    words = [int.from_bytes(pt[i:i+4], byteorder='big', signed=True) for i in range(0, 16, 4)]\n",
    "\n",
    "    # Multiply and apply Montgomery reduction\n",
    "    reduced_hex = []\n",
    "    for a, b in zip(words, secret_words_signed):\n",
    "        product = int(a) * int(b)  # safe int multiplication\n",
    "        reduced = montgomery_reduction_2(product, mode=1)\n",
    "        reduced_hex.append(f\"{reduced & 0xFFFFFFFF:08x}\")  # store as padded hex string\n",
    "\n",
    "    cwm_outputs_hex.append(reduced_hex)\n",
    "\n",
    "# ---- Save the hex outputs ----\n",
    "with open(\"cwm_outputs_hex.pkl\", \"wb\") as f:\n",
    "    pickle.dump(cwm_outputs_hex, f)\n",
    "\n",
    "print(\"[INFO] CWM with Montgomery reduction and hex output complete and saved.\")\n"
   ]
  },
  {
   "cell_type": "code",
   "execution_count": 126,
   "metadata": {},
   "outputs": [
    {
     "name": "stdout",
     "output_type": "stream",
     "text": [
      "[INFO] First 10 Montgomery-reduced outputs (in hex):\n",
      "Sample 1: ffe6da52 | ffffab95 | ffec1509 | 002c8981\n",
      "Sample 2: 00211c4a | 002a57a4 | ffd5de6a | ffd8631c\n",
      "Sample 3: 002874a2 | ffe5a921 | fffd0c53 | fffd07f9\n",
      "Sample 4: 001ab9ed | 002571e7 | 003b39c5 | 000b6f86\n",
      "Sample 5: 004e3c6f | 0037ab29 | 001bdf9d | ffe676a7\n",
      "Sample 6: 000af884 | 000b817c | ffec5814 | 002bf6af\n",
      "Sample 7: 0026a19e | 000322ca | 000d980e | 001c88de\n",
      "Sample 8: 004f8c67 | 003e9c4d | 00233d80 | fff9f184\n",
      "Sample 9: fff2a332 | 00284760 | ffe0f1c9 | ffe6e055\n",
      "Sample 10: 002aeeee | ffdd281d | 00247e23 | 00142667\n"
     ]
    }
   ],
   "source": [
    "import pickle\n",
    "\n",
    "# Load the saved hex values\n",
    "with open(\"cwm_outputs_hex.pkl\", \"rb\") as f:\n",
    "    cwm_outputs_hex = pickle.load(f)\n",
    "\n",
    "# Print the first few entries for inspection\n",
    "print(\"[INFO] First 10 Montgomery-reduced outputs (in hex):\")\n",
    "for i, row in enumerate(cwm_outputs_hex[:10]):\n",
    "    hex_str = \" | \".join(row)\n",
    "    print(f\"Sample {i + 1}: {hex_str}\")\n"
   ]
  },
  {
   "cell_type": "code",
   "execution_count": 127,
   "metadata": {},
   "outputs": [
    {
     "name": "stdout",
     "output_type": "stream",
     "text": [
      "Idx | Original CT Words (Hex)                            | Computed CT (Hex)                                  | Match?\n",
      "------------------------------------------------------------------------------------------------------------------------\n",
      "0   | ffe6da52 | ffffab95 | ffec1509 | 002c8981          | ffe6da52 | ffffab95 | ffec1509 | 002c8981          | ✅\n",
      "1   | 00211c4a | 002a57a4 | ffd5de6a | ffd8631c          | 00211c4a | 002a57a4 | ffd5de6a | ffd8631c          | ✅\n",
      "2   | 002874a2 | ffe5a921 | fffd0c53 | fffd07f9          | 002874a2 | ffe5a921 | fffd0c53 | fffd07f9          | ✅\n",
      "3   | 001ab9ed | 002571e7 | 003b39c5 | 000b6f86          | 001ab9ed | 002571e7 | 003b39c5 | 000b6f86          | ✅\n",
      "4   | 004e3c6f | 0037ab29 | 001bdf9d | ffe676a7          | 004e3c6f | 0037ab29 | 001bdf9d | ffe676a7          | ✅\n",
      "5   | 000af884 | 000b817c | ffec5814 | 002bf6af          | 000af884 | 000b817c | ffec5814 | 002bf6af          | ✅\n",
      "6   | 0026a19e | 000322ca | 000d980e | 001c88de          | 0026a19e | 000322ca | 000d980e | 001c88de          | ✅\n",
      "7   | 004f8c67 | 003e9c4d | 00233d80 | fff9f184          | 004f8c67 | 003e9c4d | 00233d80 | fff9f184          | ✅\n",
      "8   | fff2a332 | 00284760 | ffe0f1c9 | ffe6e055          | fff2a332 | 00284760 | ffe0f1c9 | ffe6e055          | ✅\n",
      "9   | 002aeeee | ffdd281d | 00247e23 | 00142667          | 002aeeee | ffdd281d | 00247e23 | 00142667          | ✅\n"
     ]
    }
   ],
   "source": [
    "import pickle\n",
    "\n",
    "# Load your computed ciphertexts (hex)\n",
    "with open(\"cwm_outputs_hex.pkl\", \"rb\") as f:\n",
    "    cwm_outputs_hex = pickle.load(f)\n",
    "\n",
    "# Load original ciphertexts\n",
    "with open(\"ciphertexts_CWM.pkl\", \"rb\") as f:\n",
    "    ciphertexts_cwm = pickle.load(f)\n",
    "\n",
    "print(f\"{'Idx':<3} | {'Original CT Words (Hex)':<50} | {'Computed CT (Hex)':<50} | Match?\")\n",
    "print(\"-\" * 120)\n",
    "\n",
    "for i in range(len(ciphertexts_cwm)):\n",
    "    # Original CT words from .pkl (convert to hex)\n",
    "    ct_bytes = ciphertexts_cwm[i]\n",
    "    ct_words_hex = [f\"{int.from_bytes(ct_bytes[j:j+4], byteorder='big', signed=False):08x}\" for j in range(0, 16, 4)]\n",
    "\n",
    "    # Your computed Montgomery-reduced hex values\n",
    "    computed = cwm_outputs_hex[i]\n",
    "\n",
    "    # Check if they match\n",
    "    match = ct_words_hex == computed\n",
    "\n",
    "    print(f\"{i:<3} | {' | '.join(ct_words_hex):<50} | {' | '.join(computed):<50} | {'✅' if match else '❌'}\")\n",
    "\n",
    "    if i >= 9:  # First 10 entries\n",
    "        break\n"
   ]
  },
  {
   "cell_type": "code",
   "execution_count": null,
   "metadata": {},
   "outputs": [],
   "source": []
  },
  {
   "cell_type": "code",
   "execution_count": null,
   "metadata": {},
   "outputs": [],
   "source": []
  },
  {
   "cell_type": "code",
   "execution_count": null,
   "metadata": {},
   "outputs": [],
   "source": []
  },
  {
   "cell_type": "code",
   "execution_count": null,
   "metadata": {},
   "outputs": [],
   "source": []
  },
  {
   "cell_type": "code",
   "execution_count": null,
   "metadata": {},
   "outputs": [],
   "source": []
  },
  {
   "cell_type": "code",
   "execution_count": null,
   "metadata": {},
   "outputs": [],
   "source": []
  },
  {
   "cell_type": "code",
   "execution_count": null,
   "metadata": {},
   "outputs": [],
   "source": []
  }
 ],
 "metadata": {
  "kernelspec": {
   "display_name": "Python 3 (ipykernel)",
   "language": "python",
   "name": "python3"
  },
  "language_info": {
   "codemirror_mode": {
    "name": "ipython",
    "version": 3
   },
   "file_extension": ".py",
   "mimetype": "text/x-python",
   "name": "python",
   "nbconvert_exporter": "python",
   "pygments_lexer": "ipython3",
   "version": "3.12.8"
  }
 },
 "nbformat": 4,
 "nbformat_minor": 4
}
